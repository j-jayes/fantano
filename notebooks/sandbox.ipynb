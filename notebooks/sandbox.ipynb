{
 "cells": [
  {
   "cell_type": "markdown",
   "metadata": {},
   "source": [
    "## Purpose\n",
    "\n",
    "I need to create a subsample of my dataset to get ChatGPT to help me move forward"
   ]
  },
  {
   "cell_type": "code",
   "execution_count": 3,
   "metadata": {},
   "outputs": [],
   "source": [
    "import json\n",
    "\n",
    "# Load the JSON file\n",
    "with open('data/raw/video_data_2010-03-08T00:00:00Z_to_2023-11-05T08:33:18.645672Z.json', 'r') as f:\n",
    "    data = json.load(f)\n",
    "\n",
    "# Get a subsample of the first 20 items\n",
    "subsample = data[:20]\n",
    "\n",
    "# Save the subsample to a new JSON file\n",
    "with open('data/temp/subsample.json', 'w') as f:\n",
    "    json.dump(subsample, f)"
   ]
  }
 ],
 "metadata": {
  "kernelspec": {
   "display_name": ".venv",
   "language": "python",
   "name": "python3"
  },
  "language_info": {
   "codemirror_mode": {
    "name": "ipython",
    "version": 3
   },
   "file_extension": ".py",
   "mimetype": "text/x-python",
   "name": "python",
   "nbconvert_exporter": "python",
   "pygments_lexer": "ipython3",
   "version": "3.11.6"
  }
 },
 "nbformat": 4,
 "nbformat_minor": 2
}
